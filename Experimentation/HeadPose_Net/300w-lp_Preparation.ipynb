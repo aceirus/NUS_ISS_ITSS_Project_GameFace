{
 "cells": [
  {
   "cell_type": "markdown",
   "id": "f2295f69-a395-4254-84ce-763bb1d16a70",
   "metadata": {},
   "source": [
    "# GameFace\n",
    "HCI With Head Pose Using Computer Vision\n",
    "\n",
    "---\n",
    "Practice Module: Intelligent Sensing System (ISS)\n"
   ]
  },
  {
   "cell_type": "markdown",
   "id": "a77eb56c-9964-4fab-9ca9-c46bc20cd8c6",
   "metadata": {},
   "source": [
    "# 0. File Path & Library Setup"
   ]
  },
  {
   "cell_type": "code",
   "execution_count": 1,
   "id": "347fc79c-5382-495d-b195-4d068094f159",
   "metadata": {},
   "outputs": [
    {
     "name": "stdout",
     "output_type": "stream",
     "text": [
      "Versions of key libraries\n",
      "-------------------------\n",
      "pandas:       1.3.3\n",
      "numpy:        1.19.5\n",
      "opencv:       4.5.3\n"
     ]
    }
   ],
   "source": [
    "# Load All Necessary Packages\n",
    "\n",
    "import os\n",
    "import pathlib\n",
    "# from google.colab import drive\n",
    "\n",
    "import pandas as pd\n",
    "import numpy as np\n",
    "import matplotlib.pyplot as plt\n",
    "from math import ceil\n",
    "import math\n",
    "from numpy import linalg\n",
    "from scipy.spatial.transform import Rotation\n",
    "import scipy.io as sio\n",
    "import cv2\n",
    "import time\n",
    "from IPython.display import clear_output\n",
    "\n",
    "seed = 12\n",
    "\n",
    "print(\"Versions of key libraries\")\n",
    "print(\"-------------------------\")\n",
    "print(\"pandas:      \", pd.__version__)\n",
    "print(\"numpy:       \", np.__version__)\n",
    "print(\"opencv:      \", cv2.__version__)"
   ]
  },
  {
   "cell_type": "code",
   "execution_count": 2,
   "id": "eb76dd65-2b2e-42d7-9edd-023e809d4bc0",
   "metadata": {},
   "outputs": [
    {
     "name": "stdout",
     "output_type": "stream",
     "text": [
      "Working Directory: \n"
     ]
    },
    {
     "data": {
      "text/plain": [
       "'D:\\\\Personal\\\\Education\\\\NUS-ISS Mtech IS\\\\Course Materials\\\\3. Intelligent Sensing Systems (ISS)\\\\0. Practice Module (TT)\\\\Source Code\\\\Face Pose Estimation 1'"
      ]
     },
     "execution_count": 2,
     "metadata": {},
     "output_type": "execute_result"
    }
   ],
   "source": [
    "# # Mounting to Google Drive\n",
    "# drive.mount('/content/gdrive')\n",
    "\n",
    "# # Change Working Directory\n",
    "# os.chdir('/content/gdrive/My Drive/iss/prs_pm/training')\n",
    "\n",
    "print('Working Directory: ')\n",
    "# !pwd\n",
    "os.getcwd()\n"
   ]
  },
  {
   "cell_type": "markdown",
   "id": "252e85b4-e4ce-49f1-8e79-c69fdc716270",
   "metadata": {},
   "source": [
    "# 1. Load Data File Path"
   ]
  },
  {
   "cell_type": "markdown",
   "id": "59f4d47f-8a9a-4217-a1c9-31b10e43615c",
   "metadata": {},
   "source": [
    "## Load Data Directory"
   ]
  },
  {
   "cell_type": "code",
   "execution_count": 3,
   "id": "a62a4459-f0e2-421e-b123-7cef2313465d",
   "metadata": {},
   "outputs": [],
   "source": [
    "# Define dataset path\n",
    "hp300wlpdir = 'Data/300W_LP'\n",
    "hp300wlpoutdir = 'Data/300W_LP_processed'\n"
   ]
  },
  {
   "cell_type": "markdown",
   "id": "e63299aa-3adc-4ecc-8423-c62d85392ad4",
   "metadata": {},
   "source": [
    "## Data Paths"
   ]
  },
  {
   "cell_type": "code",
   "execution_count": 4,
   "id": "be7371fe-f2c7-4154-b281-c55af04d9bad",
   "metadata": {},
   "outputs": [
    {
     "name": "stdout",
     "output_type": "stream",
     "text": [
      "Total Number of PersonID      :  8\n",
      "Total Number of Images        :  122450\n",
      "Total Number of Annotations   :  122450\n",
      "Number of Images per PersonID :  [5207, 5207, 37676, 37676, 1786, 1786, 16556, 16556]\n"
     ]
    }
   ],
   "source": [
    "# Get All Image and Annotation Paths\n",
    "folder = os.listdir(hp300wlpdir)\n",
    "\n",
    "dataCount = [] # Arranged by personID (1-24)\n",
    "imgPath = [] \n",
    "annPath = [] # Not used\n",
    "for i in range(len(folder)):\n",
    "    path = os.path.join(os.getcwd(), hp300wlpdir, folder[i])\n",
    "    file_list = os.listdir(path)\n",
    "    data_count = 0\n",
    "    for file in file_list:\n",
    "        if file.endswith('.jpg'):\n",
    "            data_count += 1\n",
    "            imgPath.append(os.path.join(path, file))\n",
    "        if file.endswith('.mat'):\n",
    "            annPath.append(os.path.join(path, file))\n",
    "    dataCount.append(data_count)\n",
    "\n",
    "print('Total Number of PersonID      : ', str(len(folder)))\n",
    "print('Total Number of Images        : ', str(len(imgPath)))\n",
    "print('Total Number of Annotations   : ', str(len(annPath)))\n",
    "print('Number of Images per PersonID : ', dataCount)\n"
   ]
  },
  {
   "cell_type": "code",
   "execution_count": 5,
   "id": "6c41fbb7-0b67-4c43-b800-1e66260cef4c",
   "metadata": {},
   "outputs": [],
   "source": [
    "# Testing Loaded Paths\n",
    "testing = cv2.imread(imgPath[0])\n",
    "cv2.imshow('testing', testing)\n",
    "cv2.waitKey(0)\n",
    "cv2.destroyAllWindows()"
   ]
  },
  {
   "cell_type": "markdown",
   "id": "73f4835e-629e-4772-817e-f090be990f21",
   "metadata": {},
   "source": [
    "# 2. Extract Face and Euler Angles"
   ]
  },
  {
   "cell_type": "code",
   "execution_count": 6,
   "id": "b764cec9-fac6-4196-b6d2-c3bce2585674",
   "metadata": {},
   "outputs": [],
   "source": [
    "# Utility Functions\n",
    "\n",
    "def get_bbox(mat, scale, nrow, nclm):\n",
    "    lm = mat['pt2d']\n",
    "    min_clm = min(lm[0,:])\n",
    "    min_row = min(lm[1,:])\n",
    "    max_clm = max(lm[0,:])\n",
    "    max_row = max(lm[1,:])\n",
    "    height = max_row - min_row\n",
    "    width = max_clm - min_clm\n",
    "    new_min_row = max(min_row - (scale - 1)*height/2, 0)\n",
    "    new_max_row = min(max_row + (scale - 1)*height/2, nrow)\n",
    "    new_min_clm = max(min_clm - (scale - 1)*width/2, 0)\n",
    "    new_max_clm = min(max_clm + (scale - 1)*width/2, nclm)\n",
    "    return(int(min_row), int(min_clm), int(max_row), int(max_clm))\n",
    "\n",
    "def get_euler_txt(mat):\n",
    "    euler = mat['Pose_Para'][0][:3]\n",
    "    pitch = euler[0]  * 180 / np.pi\n",
    "    yaw = euler[1] * 180 / np.pi\n",
    "    roll = euler[2] * 180 / np.pi\n",
    "    euler_txt = ','.join([str(pitch), str(yaw), str(roll)])\n",
    "    return euler_txt\n"
   ]
  },
  {
   "cell_type": "code",
   "execution_count": 7,
   "id": "0c34559c-6d2c-4165-b8a5-04afe8cf5120",
   "metadata": {},
   "outputs": [],
   "source": [
    "# Create Empty Folders\n",
    "\n",
    "for i in folder:\n",
    "    folder_path = pathlib.Path(os.path.join(os.getcwd(), hp300wlpoutdir, i))\n",
    "    folder_path.mkdir(parents=True, exist_ok=True) # Make new directory if not exists"
   ]
  },
  {
   "cell_type": "code",
   "execution_count": 8,
   "id": "d69d495a-f80f-4283-b78c-7951f76146c3",
   "metadata": {},
   "outputs": [
    {
     "name": "stdout",
     "output_type": "stream",
     "text": [
      "Done!\n"
     ]
    }
   ],
   "source": [
    "# Extract Face and Euler and Save in output folder\n",
    "\n",
    "scale = 1.3\n",
    "\n",
    "for i in range(len(imgPath)):\n",
    "    if i % 100 == 0:\n",
    "        clear_output(wait=True)\n",
    "        print('Processed image: {0:06d}/{1:d}'.format(i+1, len(imgPath))) \n",
    "    img_file = imgPath[i]\n",
    "    mat_file = img_file.replace('.jpg', '.mat')\n",
    "    img = cv2.imread(img_file)\n",
    "    mat = sio.loadmat(mat_file)\n",
    "    nrow, nclm, _ = img.shape\n",
    "\n",
    "    # Get Cropped Bounding Box of Face\n",
    "    bbox = get_bbox(mat, scale, nrow, nclm)\n",
    "    face_img = img[bbox[0]:bbox[2], bbox[1]:bbox[3]]\n",
    "\n",
    "    # Get Euler Angles\n",
    "    euler = get_euler_txt(mat)\n",
    "\n",
    "    # Save Face Image Output\n",
    "    img_out_file = img_file.replace(hp300wlpdir, hp300wlpoutdir).replace('.jpg', '_rgb.jpg')\n",
    "    cv2.imwrite(img_out_file, face_img)\n",
    "\n",
    "    # Save Euler Angles in text\n",
    "    eur_out_file = img_out_file.replace('_rgb.jpg', '_euler.txt')\n",
    "    euler_write = open(eur_out_file, 'w')\n",
    "    euler_write.write(euler)\n",
    "    euler_write.close()\n",
    "    \n",
    "clear_output(wait=True)\n",
    "print('Done!')\n"
   ]
  }
 ],
 "metadata": {
  "kernelspec": {
   "display_name": "Python [conda env:py39_gpu1]",
   "language": "python",
   "name": "conda-env-py39_gpu1-py"
  },
  "language_info": {
   "codemirror_mode": {
    "name": "ipython",
    "version": 3
   },
   "file_extension": ".py",
   "mimetype": "text/x-python",
   "name": "python",
   "nbconvert_exporter": "python",
   "pygments_lexer": "ipython3",
   "version": "3.9.7"
  }
 },
 "nbformat": 4,
 "nbformat_minor": 5
}
