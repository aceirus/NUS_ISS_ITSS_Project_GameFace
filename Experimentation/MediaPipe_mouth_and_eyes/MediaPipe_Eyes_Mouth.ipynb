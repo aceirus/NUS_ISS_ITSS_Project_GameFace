{
 "cells": [
  {
   "cell_type": "code",
   "execution_count": 1,
   "id": "6bfcf6c2",
   "metadata": {},
   "outputs": [],
   "source": [
    "import mediapipe as mp\n",
    "import cv2\n",
    "import time\n",
    "import os"
   ]
  },
  {
   "cell_type": "code",
   "execution_count": 2,
   "id": "82e15a35",
   "metadata": {},
   "outputs": [],
   "source": [
    "mp_face_mesh = mp.solutions.face_mesh"
   ]
  },
  {
   "cell_type": "markdown",
   "id": "85c86350",
   "metadata": {},
   "source": [
    "**Eye Height**"
   ]
  },
  {
   "cell_type": "code",
   "execution_count": 3,
   "id": "3ac9b240",
   "metadata": {},
   "outputs": [],
   "source": [
    "import math \n",
    "def are_eyes_closed(landmarks, image):\n",
    "    coords=[]\n",
    "    for i in (386, 362, 374, 263, 159, 33, 145, 133):\n",
    "        x2_loc=int(landmarks.landmark[i].x*image.shape[1])\n",
    "#         print(x2_loc)\n",
    "        y2_loc=int(landmarks.landmark[i].y*image.shape[0])\n",
    "        coords.append((x2_loc,y2_loc))\n",
    "#Coords go right eye, left eye, top, left, bottom, right\n",
    "#         print(coords)\n",
    "        \n",
    "    sum=0\n",
    "    right_width = math.sqrt( (coords[1][0] - coords[3][0])**2 +\n",
    "                          (coords[1][1] - coords[3][1])**2   )\n",
    "    left_width = math.sqrt( (coords[5][0] - coords[7][0])**2 +\n",
    "                          (coords[5][1] - coords[7][1])**2   )\n",
    "    \n",
    "    # distance between two near points up and down\n",
    "    right_distance = math.sqrt( (coords[0][0] - coords[2][0])**2 +\n",
    "                              (coords[0][1] - coords[2][1])**2   )\n",
    "    left_distance = math.sqrt( (coords[4][0] - coords[6][0])**2 +\n",
    "                              (coords[4][1] - coords[6][1])**2   )\n",
    "    \n",
    "#     print(\"right_width=\"+str(right_width))\n",
    "#     print(\"right_dist=\"+str(right_distance))\n",
    "#     print(\"left_width=\"+str(left_width))\n",
    "#     print(\"left_dist=\"+str(left_distance))\n",
    "    ratio=0.25\n",
    "    if right_distance < right_width * ratio and left_distance < left_width * ratio:\n",
    "#         print(\"Closed\")\n",
    "        return True\n",
    "    else:\n",
    "        return False\n",
    "\n",
    "# are_eyes_closed(results.face_landmarks, frame)"
   ]
  },
  {
   "cell_type": "markdown",
   "id": "69026e33",
   "metadata": {},
   "source": [
    "**Lip Height**"
   ]
  },
  {
   "cell_type": "code",
   "execution_count": 4,
   "id": "5e706b79",
   "metadata": {},
   "outputs": [
    {
     "data": {
      "text/plain": [
       "(0, 13, 14, 17, 37, 82, 87, 84, 267, 312, 317, 314)"
      ]
     },
     "execution_count": 4,
     "metadata": {},
     "output_type": "execute_result"
    }
   ],
   "source": [
    "(0, 13, 14, 17, 37, 82, 87, 84, 267, 312, 317, 314)\n",
    "#top_lip_top, top_lip_bottom, bottom_lip_top, bottom_lip_bottom"
   ]
  },
  {
   "cell_type": "code",
   "execution_count": 5,
   "id": "e536d432",
   "metadata": {},
   "outputs": [],
   "source": [
    "def get_lip_height(landmarks, image):\n",
    "    coords=[]\n",
    "    for i in (0, 13, 14, 17, 37, 82, 87, 84, 267, 312, 317, 314):\n",
    "        x2_loc=int(landmarks.landmark[i].x*image.shape[1])\n",
    "#         print(x2_loc)\n",
    "        y2_loc=int(landmarks.landmark[i].y*image.shape[0])\n",
    "        coords.append((x2_loc,y2_loc))\n",
    "\n",
    "    sum_top=0\n",
    "    sum_bottom=0\n",
    "    #0,4,8\n",
    "    for i in [0,4,8]:\n",
    "        # distance between two near points up and down\n",
    "        top_distance = math.sqrt( (coords[i][0] - coords[1+i][0])**2 +\n",
    "                              (coords[i][1] - coords[1+i][1])**2   )\n",
    "    for i in [2,6,10]:\n",
    "        # distance between two near points up and down\n",
    "        bottom_distance = math.sqrt( (coords[i][0] - coords[1+i][0])**2 +\n",
    "                              (coords[i][1] - coords[1+i][1])**2   )\n",
    "\n",
    "    sum_top += top_distance\n",
    "    sum_bottom += bottom_distance\n",
    "    return (sum_top / 3,sum_bottom / 3)\n",
    "\n",
    "# top_lip, bottom_lip=get_lip_height(results.face_landmarks, frame)\n",
    "# print(top_lip)\n",
    "# print(bottom_lip)"
   ]
  },
  {
   "cell_type": "code",
   "execution_count": 6,
   "id": "299b1324",
   "metadata": {},
   "outputs": [],
   "source": [
    "def get_mouth_height(landmarks, image):\n",
    "    coords=[]\n",
    "    for i in (0, 13, 14, 17, 37, 82, 87, 84, 267, 312, 317, 314):\n",
    "        x2_loc=int(landmarks.landmark[i].x*image.shape[1])\n",
    "#         print(x2_loc)\n",
    "        y2_loc=int(landmarks.landmark[i].y*image.shape[0])\n",
    "        coords.append((x2_loc,y2_loc))\n",
    "    \n",
    "    sum=0\n",
    "    for i in [1,5,9]:\n",
    "        # distance between two near points up and down\n",
    "        distance = math.sqrt( (coords[i][0] - coords[i+1][0])**2 + \n",
    "                              (coords[i][1] - coords[i+1][1])**2   )\n",
    "        sum += distance\n",
    "    return sum / 3\n",
    "\n",
    "# get_mouth_height(results.face_landmarks, frame)"
   ]
  },
  {
   "cell_type": "code",
   "execution_count": 7,
   "id": "42844e72",
   "metadata": {},
   "outputs": [],
   "source": [
    "def check_mouth_open(landmarks, image):\n",
    "    top_lip_height, bottom_lip_height=get_lip_height(landmarks, image)\n",
    "    mouth_height=get_mouth_height(landmarks, image)\n",
    "\n",
    "#     print(min(top_lip_height, bottom_lip_height)*0.5)\n",
    "#     print(mouth_height)\n",
    "    \n",
    "    # if mouth is open more than lip height * ratio, return true.\n",
    "    ratio = 1.0\n",
    "    if mouth_height > min(top_lip_height, bottom_lip_height) * ratio:\n",
    "        return True\n",
    "    else:\n",
    "        return False\n",
    "    \n",
    "# check_mouth_open(results.face_landmarks, frame)"
   ]
  },
  {
   "cell_type": "code",
   "execution_count": 8,
   "id": "75a41416",
   "metadata": {},
   "outputs": [],
   "source": [
    "face_mesh = mp_face_mesh.FaceMesh(max_num_faces=1, refine_landmarks=True, \n",
    "                                  min_detection_confidence=0.5, min_tracking_confidence=0.5)\n",
    "\n",
    "def Eyes_and_mouth(frame):\n",
    "    results = face_mesh.process(cv2.cvtColor(frame, cv2.COLOR_BGR2RGB))\n",
    "    \n",
    "    if results.multi_face_landmarks is not None:\n",
    "        if len(results.multi_face_landmarks[0].landmark) > 0:\n",
    "            closed_eyes=are_eyes_closed(results.multi_face_landmarks[0], frame)\n",
    "\n",
    "            open_mouth=check_mouth_open(results.multi_face_landmarks[0], frame)\n",
    "\n",
    "            if closed_eyes:\n",
    "                cv2.putText(frame, 'Eyes Closed', (10, 70), cv2.FONT_HERSHEY_SIMPLEX, 1, (0,255,0), 1, cv2.LINE_AA )\n",
    "            elif open_mouth:\n",
    "                cv2.putText(frame, 'Mouth Open', (10, 140), cv2.FONT_HERSHEY_SIMPLEX, 1, (0,255,0), 1, cv2.LINE_AA )"
   ]
  },
  {
   "cell_type": "markdown",
   "id": "75931cde",
   "metadata": {},
   "source": [
    "**Live video**"
   ]
  },
  {
   "cell_type": "code",
   "execution_count": 10,
   "id": "b4032a23",
   "metadata": {},
   "outputs": [],
   "source": [
    "cap = cv2.VideoCapture(0)\n",
    "cap.set(3, 640)\n",
    "cap.set(4, 480)\n",
    "\n",
    "f = 0\n",
    "previous=time.time()\n",
    "\n",
    "fourcc = cv2.VideoWriter_fourcc(*'MP4V')\n",
    "out = cv2.VideoWriter('mouth_output.mp4', fourcc, 24, (640, 480)) \n",
    "\n",
    "while cap.isOpened():\n",
    "    new = time.time()\n",
    "    f = int(1/(new - previous))\n",
    "    previous = new\n",
    "      \n",
    "    ret, frame = cap.read()\n",
    "    if not ret:\n",
    "        break\n",
    "        \n",
    "    Eyes_and_mouth(frame)\n",
    "        \n",
    "    cv2.putText(frame, f'FPS: {f}', (10, 30), cv2.FONT_HERSHEY_SIMPLEX, 1, (255,0,0), 1, cv2.LINE_AA )\n",
    "    cv2.imshow('Webcam Testing Landmarks', frame)\n",
    "    out.write(frame)\n",
    "    if cv2.waitKey(1) & 0xFF == ord('q'):\n",
    "        break\n",
    "\n",
    "cap.release()\n",
    "out.release()\n",
    "cv2.destroyAllWindows()"
   ]
  }
 ],
 "metadata": {
  "kernelspec": {
   "display_name": "Python 3 (ipykernel)",
   "language": "python",
   "name": "python3"
  },
  "language_info": {
   "codemirror_mode": {
    "name": "ipython",
    "version": 3
   },
   "file_extension": ".py",
   "mimetype": "text/x-python",
   "name": "python",
   "nbconvert_exporter": "python",
   "pygments_lexer": "ipython3",
   "version": "3.8.11"
  }
 },
 "nbformat": 4,
 "nbformat_minor": 5
}
